{
 "cells": [
  {
   "cell_type": "code",
   "execution_count": 2,
   "id": "239a63a4",
   "metadata": {},
   "outputs": [],
   "source": [
    "import pandas as pd\n",
    "import numpy as np\n",
    "import math\n",
    "from scipy import stats\n",
    "import scipy"
   ]
  },
  {
   "cell_type": "code",
   "execution_count": 3,
   "id": "aa08c67a",
   "metadata": {},
   "outputs": [
    {
     "data": {
      "text/plain": [
       "2.8450165269958436"
      ]
     },
     "execution_count": 3,
     "metadata": {},
     "output_type": "execute_result"
    }
   ],
   "source": [
    "scipy.stats.f.ppf(q=1-0.05,dfn=15,dfd=10)"
   ]
  },
  {
   "cell_type": "code",
   "execution_count": 4,
   "id": "1fb37ba2",
   "metadata": {},
   "outputs": [
    {
     "data": {
      "text/plain": [
       "0.3931252536255495"
      ]
     },
     "execution_count": 4,
     "metadata": {},
     "output_type": "execute_result"
    }
   ],
   "source": [
    "scipy.stats.f.ppf(q=0.05,dfn=15,dfd=10)"
   ]
  },
  {
   "cell_type": "code",
   "execution_count": 5,
   "id": "bf6792b7",
   "metadata": {},
   "outputs": [],
   "source": [
    "X=[12,45,89,56,89,45,22,13,8]"
   ]
  },
  {
   "cell_type": "code",
   "execution_count": 6,
   "id": "c60f8bce",
   "metadata": {},
   "outputs": [],
   "source": [
    "Y=[1,89,67,90,45,33,21,95,40]"
   ]
  },
  {
   "cell_type": "code",
   "execution_count": 7,
   "id": "f39d4561",
   "metadata": {},
   "outputs": [],
   "source": [
    "import numpy as np"
   ]
  },
  {
   "cell_type": "code",
   "execution_count": 8,
   "id": "bb1bbd7d",
   "metadata": {},
   "outputs": [],
   "source": [
    "F=np.var(X)/np.var(Y)"
   ]
  },
  {
   "cell_type": "code",
   "execution_count": 9,
   "id": "4ded787e",
   "metadata": {},
   "outputs": [],
   "source": [
    "dfn=len(X)-1\n",
    "dfd=len(Y)-1"
   ]
  },
  {
   "cell_type": "code",
   "execution_count": 10,
   "id": "e619a932",
   "metadata": {},
   "outputs": [],
   "source": [
    "p_value=scipy.stats.f.cdf(F,dfn,dfd)"
   ]
  },
  {
   "cell_type": "code",
   "execution_count": 11,
   "id": "bcd8c38f",
   "metadata": {},
   "outputs": [
    {
     "data": {
      "text/plain": [
       "0.43201799228874804"
      ]
     },
     "execution_count": 11,
     "metadata": {},
     "output_type": "execute_result"
    }
   ],
   "source": [
    "p_value"
   ]
  },
  {
   "cell_type": "code",
   "execution_count": 13,
   "id": "17bf6f5b",
   "metadata": {},
   "outputs": [],
   "source": [
    "import pandas as pd\n",
    "import numpy as np\n",
    "from scipy import stats\n",
    "import math"
   ]
  },
  {
   "cell_type": "code",
   "execution_count": 14,
   "id": "77166cb8",
   "metadata": {},
   "outputs": [],
   "source": [
    "def samplesize(alpha,beta,mu1,mu2,sigma):\n",
    "    z1=-1*stats.norm.ppf(alpha)\n",
    "    z2=-1*stats.norm.ppf(beta)\n",
    "    n=(((z1+z2)**2)*(sigma**2))/((mu1-mu2)**2)\n",
    "    print(n)"
   ]
  },
  {
   "cell_type": "code",
   "execution_count": 15,
   "id": "27700ac8",
   "metadata": {},
   "outputs": [
    {
     "name": "stdout",
     "output_type": "stream",
     "text": [
      "155.900083325938\n"
     ]
    }
   ],
   "source": [
    "samplesize(0.05,0.1,12,12.75,3.2)"
   ]
  },
  {
   "cell_type": "code",
   "execution_count": 16,
   "id": "346bf12c",
   "metadata": {},
   "outputs": [],
   "source": [
    "a=[4,3,2]\n",
    "b=[2,4,6]\n",
    "c=[2,1,3]\n"
   ]
  },
  {
   "cell_type": "code",
   "execution_count": 17,
   "id": "683cc002",
   "metadata": {},
   "outputs": [
    {
     "data": {
      "text/plain": [
       "F_onewayResult(statistic=1.5, pvalue=0.2962962962962962)"
      ]
     },
     "execution_count": 17,
     "metadata": {},
     "output_type": "execute_result"
    }
   ],
   "source": [
    "stats.f_oneway(a,b,c)"
   ]
  },
  {
   "cell_type": "code",
   "execution_count": 19,
   "id": "be7d51c0",
   "metadata": {},
   "outputs": [],
   "source": [
    "# import pandas as pd\n",
    "# import numpy as np\n",
    "# import math\n",
    "# from scipy import stats\n",
    "# import scipy\n",
    "# import stasmodels.api as sm\n"
   ]
  },
  {
   "cell_type": "code",
   "execution_count": null,
   "id": "f7b36d0d",
   "metadata": {},
   "outputs": [],
   "source": []
  }
 ],
 "metadata": {
  "kernelspec": {
   "display_name": "Python 3 (ipykernel)",
   "language": "python",
   "name": "python3"
  },
  "language_info": {
   "codemirror_mode": {
    "name": "ipython",
    "version": 3
   },
   "file_extension": ".py",
   "mimetype": "text/x-python",
   "name": "python",
   "nbconvert_exporter": "python",
   "pygments_lexer": "ipython3",
   "version": "3.9.12"
  }
 },
 "nbformat": 4,
 "nbformat_minor": 5
}
